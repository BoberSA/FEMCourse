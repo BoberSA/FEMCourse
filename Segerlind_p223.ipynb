{
 "cells": [
  {
   "cell_type": "markdown",
   "metadata": {},
   "source": [
    "## Решение задачи деформируемого твердого тела"
   ]
  },
  {
   "cell_type": "markdown",
   "metadata": {},
   "source": [
    "<img src='p223.png'></img>"
   ]
  },
  {
   "cell_type": "markdown",
   "metadata": {},
   "source": [
    "Требуется:\n",
    "- найти перемещения узлов\n",
    "- тензор деформации элемента\n",
    "- тензор напряжений элемента\n",
    "- главные напряжения"
   ]
  },
  {
   "cell_type": "code",
   "execution_count": 1,
   "metadata": {},
   "outputs": [],
   "source": [
    "# импорт необходимых модулей\n",
    "import numpy as np\n",
    "import matplotlib.pyplot as plt\n",
    "np.set_printoptions(precision=3)\n",
    "%matplotlib inline"
   ]
  },
  {
   "cell_type": "code",
   "execution_count": 2,
   "metadata": {},
   "outputs": [
    {
     "data": {
      "text/plain": [
       "array([[0., 0.],\n",
       "       [2., 0.],\n",
       "       [1., 3.]])"
      ]
     },
     "execution_count": 2,
     "metadata": {},
     "output_type": "execute_result"
    }
   ],
   "source": [
    "# координаты узлов\n",
    "Nodes = np.array([[0.0, 2.0, 1.0],[0.0, 0.0, 3.0]]).T\n",
    "Nodes"
   ]
  },
  {
   "cell_type": "code",
   "execution_count": 3,
   "metadata": {},
   "outputs": [],
   "source": [
    "# константы задачи\n",
    "E = 6e6 # Н/см^2 (модуль упругости (Юнга))\n",
    "mu = 0.25 # коэффициент Пуассона\n",
    "t = 2 # см (толщина элемента)\n",
    "p = 20 # Н/см^2 (распределенное усилине на ребре jk)\n",
    "alpha = 7e-6 # 1/градус Цельсия\n",
    "dT = 15 # разница температур"
   ]
  },
  {
   "cell_type": "code",
   "execution_count": 4,
   "metadata": {},
   "outputs": [
    {
     "data": {
      "text/plain": [
       "array([-3.,  3.,  0.])"
      ]
     },
     "execution_count": 4,
     "metadata": {},
     "output_type": "execute_result"
    }
   ],
   "source": [
    "# коэффициенты матрицы градиентов\n",
    "b = Nodes[[1, 2, 0],1] - Nodes[[2, 0, 1],1]\n",
    "b"
   ]
  },
  {
   "cell_type": "code",
   "execution_count": 5,
   "metadata": {},
   "outputs": [
    {
     "data": {
      "text/plain": [
       "array([-1., -1.,  2.])"
      ]
     },
     "execution_count": 5,
     "metadata": {},
     "output_type": "execute_result"
    }
   ],
   "source": [
    "c = Nodes[[2, 0, 1],0] - Nodes[[1, 2, 0],0]\n",
    "c"
   ]
  },
  {
   "cell_type": "code",
   "execution_count": 6,
   "metadata": {},
   "outputs": [],
   "source": [
    "# функция для вычисления площади элемента\n",
    "def triarea(a, b, c):\n",
    "    ab = b - a\n",
    "    ac = c - a\n",
    "    return 0.5 * (ab[0]*ac[1]-ab[1]*ac[0])"
   ]
  },
  {
   "cell_type": "code",
   "execution_count": 7,
   "metadata": {},
   "outputs": [
    {
     "data": {
      "text/plain": [
       "3.0"
      ]
     },
     "execution_count": 7,
     "metadata": {},
     "output_type": "execute_result"
    }
   ],
   "source": [
    "A = triarea(Nodes[0], Nodes[1], Nodes[2])\n",
    "A"
   ]
  },
  {
   "cell_type": "code",
   "execution_count": 8,
   "metadata": {},
   "outputs": [
    {
     "name": "stdout",
     "output_type": "stream",
     "text": [
      "[[-3.  0.  3.  0.  0.  0.]\n",
      " [ 0. -1.  0. -1.  0.  2.]\n",
      " [-1. -3. -1.  3.  2.  0.]]\n"
     ]
    }
   ],
   "source": [
    "# матрица градиентов\n",
    "B1 = np.array([b[0], 0, b[1], 0, b[2], 0])\n",
    "B2 = np.array([0, c[0], 0, c[1], 0, c[2]])\n",
    "B = np.vstack((B1, B2, np.roll(B1,1) + np.roll(B2,-1))) / (2*A)\n",
    "print(B*2*A)"
   ]
  },
  {
   "cell_type": "code",
   "execution_count": 9,
   "metadata": {},
   "outputs": [
    {
     "name": "stdout",
     "output_type": "stream",
     "text": [
      "[[8. 2. 0.]\n",
      " [2. 8. 0.]\n",
      " [0. 0. 3.]]\n"
     ]
    }
   ],
   "source": [
    "# матрица упругих постоянных\n",
    "D = E / (1 - mu**2) * np.array([[1, mu, 0], [mu, 1, 0], [0, 0, 0.5*(1-mu)]])\n",
    "print(D*(1 - mu**2)/E*8)"
   ]
  },
  {
   "cell_type": "code",
   "execution_count": 10,
   "metadata": {},
   "outputs": [
    {
     "name": "stdout",
     "output_type": "stream",
     "text": [
      "[[ 75.002  15.    -69.002  -3.     -6.    -12.   ]\n",
      " [ 15.     35.001   3.    -19.    -18.    -16.   ]\n",
      " [-69.002   3.     75.002 -15.     -6.     12.   ]\n",
      " [ -3.    -19.    -15.     35.001  18.    -16.   ]\n",
      " [ -6.    -18.     -6.     18.     12.      0.   ]\n",
      " [-12.    -16.     12.    -16.      0.     32.001]]\n",
      "[[ 75.002  15.    -69.002  -3.     -6.    -12.   ]\n",
      " [ 15.     35.001   3.    -19.    -18.    -16.   ]\n",
      " [-69.002   3.     75.002 -15.     -6.     12.   ]\n",
      " [ -3.    -19.    -15.     35.001  18.    -16.   ]\n",
      " [ -6.    -18.     -6.     18.     12.      0.   ]\n",
      " [-12.    -16.     12.    -16.      0.     32.001]]\n"
     ]
    }
   ],
   "source": [
    "# матрица жесткости\n",
    "K = np.matmul(np.matmul(B.T, D), B)*t*A\n",
    "print(K/133330)\n",
    "print(B.T.dot(D@B)*t*A/133330)"
   ]
  },
  {
   "cell_type": "code",
   "execution_count": 11,
   "metadata": {},
   "outputs": [
    {
     "name": "stdout",
     "output_type": "stream",
     "text": [
      "[[10.5]\n",
      " [10.5]\n",
      " [ 0. ]]\n"
     ]
    }
   ],
   "source": [
    "# деформации, вызванные изменением температуры\n",
    "eps0 = alpha*dT*np.array([[1,1,0]]).T\n",
    "print(eps0*1e5)"
   ]
  },
  {
   "cell_type": "code",
   "execution_count": 12,
   "metadata": {},
   "outputs": [
    {
     "data": {
      "text/plain": [
       "array([[-2520.],\n",
       "       [ -840.],\n",
       "       [ 2520.],\n",
       "       [ -840.],\n",
       "       [    0.],\n",
       "       [ 1680.]])"
      ]
     },
     "execution_count": 12,
     "metadata": {},
     "output_type": "execute_result"
    }
   ],
   "source": [
    "# узловые усилия из-за температурных деформаций\n",
    "Fth = np.matmul(np.matmul(B.T, D),eps0)*t*A\n",
    "Fth"
   ]
  },
  {
   "cell_type": "code",
   "execution_count": 13,
   "metadata": {},
   "outputs": [
    {
     "data": {
      "text/plain": [
       "3.1622776601683795"
      ]
     },
     "execution_count": 13,
     "metadata": {},
     "output_type": "execute_result"
    }
   ],
   "source": [
    "# длина ребра jk\n",
    "Ljk = np.linalg.norm(Nodes[1]-Nodes[2])\n",
    "Ljk"
   ]
  },
  {
   "cell_type": "code",
   "execution_count": 14,
   "metadata": {},
   "outputs": [
    {
     "data": {
      "text/plain": [
       "(0.9486832980505138, 0.31622776601683794)"
      ]
     },
     "execution_count": 14,
     "metadata": {},
     "output_type": "execute_result"
    }
   ],
   "source": [
    "# косинус и синус угла, под которым ориентировано\n",
    "# распределенное усилие p\n",
    "cost = Nodes[2,1]/Ljk\n",
    "sint = (Nodes[1,0]-Nodes[2,0])/Ljk\n",
    "cost, sint"
   ]
  },
  {
   "cell_type": "code",
   "execution_count": 15,
   "metadata": {},
   "outputs": [],
   "source": [
    "# пересчет распределенного усилия на узлы\n",
    "Njk = np.array([[0.0, 0.0, 1.0, 0.0, 1.0, 0.0],\n",
    "                [0.0, 0.0, 0.0, 1.0, 0.0, 1.0]])\n",
    "px = p*cost\n",
    "py = p*sint\n",
    "Fp = 0.5*Ljk*t*np.matmul(Njk.T, np.array([[px, py]]).T)"
   ]
  },
  {
   "cell_type": "code",
   "execution_count": 16,
   "metadata": {},
   "outputs": [
    {
     "data": {
      "text/plain": [
       "array([[ 0.],\n",
       "       [ 0.],\n",
       "       [60.],\n",
       "       [20.],\n",
       "       [60.],\n",
       "       [20.]])"
      ]
     },
     "execution_count": 16,
     "metadata": {},
     "output_type": "execute_result"
    }
   ],
   "source": [
    "Fp"
   ]
  },
  {
   "cell_type": "code",
   "execution_count": 17,
   "metadata": {},
   "outputs": [
    {
     "data": {
      "text/plain": [
       "array([[-2520.],\n",
       "       [ -840.],\n",
       "       [ 2580.],\n",
       "       [ -820.],\n",
       "       [   60.],\n",
       "       [ 1700.]])"
      ]
     },
     "execution_count": 17,
     "metadata": {},
     "output_type": "execute_result"
    }
   ],
   "source": [
    "# суммарный вектор усилий\n",
    "F = Fth + Fp\n",
    "F"
   ]
  },
  {
   "cell_type": "code",
   "execution_count": 18,
   "metadata": {},
   "outputs": [],
   "source": [
    "# внесение граничных условий в виде нулевых перемещений\n",
    "# узел i закреплен полностью, узел j - только по вертикали\n",
    "dof = [0,1,3]\n",
    "K[dof,:] = 0\n",
    "K[:,dof] = 0\n",
    "K[dof,dof] = 1\n",
    "F[dof] = 0"
   ]
  },
  {
   "cell_type": "code",
   "execution_count": 19,
   "metadata": {},
   "outputs": [
    {
     "data": {
      "text/plain": [
       "<matplotlib.image.AxesImage at 0x22ca2f7e2e8>"
      ]
     },
     "execution_count": 19,
     "metadata": {},
     "output_type": "execute_result"
    },
    {
     "data": {
      "image/png": "[encoded data removed]",
      "text/plain": [
       "<Figure size 432x288 with 1 Axes>"
      ]
     },
     "metadata": {},
     "output_type": "display_data"
    }
   ],
   "source": [
    "plt.spy(K)"
   ]
  },
  {
   "cell_type": "code",
   "execution_count": 20,
   "metadata": {},
   "outputs": [
    {
     "name": "stdout",
     "output_type": "stream",
     "text": [
      "[[ 1.000e+00  0.000e+00  0.000e+00  0.000e+00  0.000e+00  0.000e+00]\n",
      " [ 0.000e+00  1.000e+00  0.000e+00  0.000e+00  0.000e+00  0.000e+00]\n",
      " [ 0.000e+00  0.000e+00  1.000e+07  0.000e+00 -8.000e+05  1.600e+06]\n",
      " [ 0.000e+00  0.000e+00  0.000e+00  1.000e+00  0.000e+00  0.000e+00]\n",
      " [ 0.000e+00  0.000e+00 -8.000e+05  0.000e+00  1.600e+06  0.000e+00]\n",
      " [ 0.000e+00  0.000e+00  1.600e+06  0.000e+00  0.000e+00  4.267e+06]]\n"
     ]
    }
   ],
   "source": [
    "print(K)"
   ]
  },
  {
   "cell_type": "code",
   "execution_count": 21,
   "metadata": {},
   "outputs": [
    {
     "name": "stdout",
     "output_type": "stream",
     "text": [
      "[[   0.]\n",
      " [   0.]\n",
      " [2580.]\n",
      " [   0.]\n",
      " [  60.]\n",
      " [1700.]]\n"
     ]
    }
   ],
   "source": [
    "print(F)"
   ]
  },
  {
   "cell_type": "code",
   "execution_count": 22,
   "metadata": {},
   "outputs": [
    {
     "data": {
      "text/plain": [
       "array([[ 0.   ],\n",
       "       [ 0.   ],\n",
       "       [ 0.219],\n",
       "       [-0.   ],\n",
       "       [ 0.147],\n",
       "       [ 0.316]])"
      ]
     },
     "execution_count": 22,
     "metadata": {},
     "output_type": "execute_result"
    }
   ],
   "source": [
    "U = np.linalg.solve(K, F)\n",
    "U*1000"
   ]
  },
  {
   "cell_type": "code",
   "execution_count": 23,
   "metadata": {},
   "outputs": [
    {
     "data": {
      "text/plain": [
       "array([[ 0.   ,  0.   ],\n",
       "       [ 0.219, -0.   ],\n",
       "       [ 0.147,  0.316]])"
      ]
     },
     "execution_count": 23,
     "metadata": {},
     "output_type": "execute_result"
    }
   ],
   "source": [
    "U.reshape(-1,2)*1000"
   ]
  },
  {
   "cell_type": "code",
   "execution_count": 24,
   "metadata": {},
   "outputs": [],
   "source": [
    "# результирующее положение узлов с учетом масштабного коэффициента\n",
    "resNodes = Nodes + 1000*U.reshape(-1,2)"
   ]
  },
  {
   "cell_type": "code",
   "execution_count": 25,
   "metadata": {},
   "outputs": [
    {
     "data": {
      "text/plain": [
       "[<matplotlib.lines.Line2D at 0x22ca3019748>,\n",
       " <matplotlib.lines.Line2D at 0x22ca3019898>]"
      ]
     },
     "execution_count": 25,
     "metadata": {},
     "output_type": "execute_result"
    },
    {
     "data": {
      "image/png": "[encoded data removed]",
      "text/plain": [
       "<Figure size 288x288 with 1 Axes>"
      ]
     },
     "metadata": {},
     "output_type": "display_data"
    }
   ],
   "source": [
    "plt.figure(figsize=(4,4))\n",
    "plt.triplot(Nodes[:,0], Nodes[:,1], [[0,1,2]], color='b', alpha=0.5)\n",
    "plt.triplot(resNodes[:,0], resNodes[:,1], [[0,1,2]], color='r')"
   ]
  },
  {
   "cell_type": "code",
   "execution_count": 26,
   "metadata": {},
   "outputs": [],
   "source": [
    "# Рассчитать тензор деформаций (зависит от перемещений узлов)\n",
    "# Рассчитать тензор напряжений (зависит от деформаций)\n",
    "# Вычислить главные напряжения"
   ]
  },
  {
   "cell_type": "code",
   "execution_count": 27,
   "metadata": {},
   "outputs": [],
   "source": [
    "# [ Sx Txy 0]\n",
    "# [Tyx  Sy 0]\n",
    "# [  0  0  0]"
   ]
  },
  {
   "cell_type": "code",
   "execution_count": 28,
   "metadata": {},
   "outputs": [
    {
     "data": {
      "text/plain": [
       "array([[30.],\n",
       "       [10.],\n",
       "       [30.]])"
      ]
     },
     "execution_count": 28,
     "metadata": {},
     "output_type": "execute_result"
    }
   ],
   "source": [
    "eps = B.dot(U)\n",
    "sig = D.dot(eps) - D.dot(eps0)\n",
    "sig"
   ]
  },
  {
   "cell_type": "code",
   "execution_count": 29,
   "metadata": {},
   "outputs": [
    {
     "data": {
      "text/plain": [
       "(51.62277660168378, -11.622776601683896)"
      ]
     },
     "execution_count": 29,
     "metadata": {},
     "output_type": "execute_result"
    }
   ],
   "source": [
    "s1 = 0.5*(sig[0] + sig[1]) + np.sqrt((0.5*(sig[0]-sig[1]))**2+sig[2]**2)\n",
    "s2 = 0.5*(sig[0] + sig[1]) - np.sqrt((0.5*(sig[0]-sig[1]))**2+sig[2]**2)\n",
    "s1[0], s2[0]"
   ]
  },
  {
   "cell_type": "code",
   "execution_count": null,
   "metadata": {},
   "outputs": [],
   "source": []
  }
 ],
 "metadata": {
  "kernelspec": {
   "display_name": "Python 3",
   "language": "python",
   "name": "python3"
  },
  "language_info": {
   "codemirror_mode": {
    "name": "ipython",
    "version": 3
   },
   "file_extension": ".py",
   "mimetype": "text/x-python",
   "name": "python",
   "nbconvert_exporter": "python",
   "pygments_lexer": "ipython3",
   "version": "3.6.6"
  }
 },
 "nbformat": 4,
 "nbformat_minor": 2
}
